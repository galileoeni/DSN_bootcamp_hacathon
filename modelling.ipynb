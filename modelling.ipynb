{
 "cells": [
  {
   "cell_type": "code",
   "execution_count": 4,
   "id": "d4332847",
   "metadata": {},
   "outputs": [],
   "source": [
    "import pandas as pd"
   ]
  },
  {
   "cell_type": "code",
   "execution_count": 5,
   "id": "37f6f1aa",
   "metadata": {},
   "outputs": [],
   "source": [
    "train  = pd.read_csv('Housing_dataset_train.csv')\n",
    "test  = pd.read_csv(\"Housing_dataset_test.csv\")"
   ]
  },
  {
   "cell_type": "code",
   "execution_count": 6,
   "id": "0f5e920c",
   "metadata": {},
   "outputs": [],
   "source": [
    "loc  = pd.read_csv(\"location.csv\")"
   ]
  },
  {
   "cell_type": "code",
   "execution_count": 7,
   "id": "932c008d",
   "metadata": {},
   "outputs": [
    {
     "data": {
      "text/html": [
       "<div>\n",
       "<style scoped>\n",
       "    .dataframe tbody tr th:only-of-type {\n",
       "        vertical-align: middle;\n",
       "    }\n",
       "\n",
       "    .dataframe tbody tr th {\n",
       "        vertical-align: top;\n",
       "    }\n",
       "\n",
       "    .dataframe thead th {\n",
       "        text-align: right;\n",
       "    }\n",
       "</style>\n",
       "<table border=\"1\" class=\"dataframe\">\n",
       "  <thead>\n",
       "    <tr style=\"text-align: right;\">\n",
       "      <th></th>\n",
       "      <th>ID</th>\n",
       "      <th>loc</th>\n",
       "      <th>title</th>\n",
       "      <th>bedroom</th>\n",
       "      <th>bathroom</th>\n",
       "      <th>parking_space</th>\n",
       "      <th>price</th>\n",
       "    </tr>\n",
       "  </thead>\n",
       "  <tbody>\n",
       "    <tr>\n",
       "      <th>0</th>\n",
       "      <td>3583</td>\n",
       "      <td>Katsina</td>\n",
       "      <td>Semi-detached duplex</td>\n",
       "      <td>2.0</td>\n",
       "      <td>2.0</td>\n",
       "      <td>1.0</td>\n",
       "      <td>1149999.565</td>\n",
       "    </tr>\n",
       "    <tr>\n",
       "      <th>1</th>\n",
       "      <td>2748</td>\n",
       "      <td>Ondo</td>\n",
       "      <td>Apartment</td>\n",
       "      <td>NaN</td>\n",
       "      <td>2.0</td>\n",
       "      <td>4.0</td>\n",
       "      <td>1672416.689</td>\n",
       "    </tr>\n",
       "    <tr>\n",
       "      <th>2</th>\n",
       "      <td>9261</td>\n",
       "      <td>Ekiti</td>\n",
       "      <td>NaN</td>\n",
       "      <td>7.0</td>\n",
       "      <td>5.0</td>\n",
       "      <td>NaN</td>\n",
       "      <td>3364799.814</td>\n",
       "    </tr>\n",
       "    <tr>\n",
       "      <th>3</th>\n",
       "      <td>2224</td>\n",
       "      <td>Anambra</td>\n",
       "      <td>Detached duplex</td>\n",
       "      <td>5.0</td>\n",
       "      <td>2.0</td>\n",
       "      <td>4.0</td>\n",
       "      <td>2410306.756</td>\n",
       "    </tr>\n",
       "    <tr>\n",
       "      <th>4</th>\n",
       "      <td>10300</td>\n",
       "      <td>Kogi</td>\n",
       "      <td>Terrace duplex</td>\n",
       "      <td>NaN</td>\n",
       "      <td>5.0</td>\n",
       "      <td>6.0</td>\n",
       "      <td>2600700.898</td>\n",
       "    </tr>\n",
       "  </tbody>\n",
       "</table>\n",
       "</div>"
      ],
      "text/plain": [
       "      ID      loc                 title  bedroom  bathroom  parking_space  \\\n",
       "0   3583  Katsina  Semi-detached duplex      2.0       2.0            1.0   \n",
       "1   2748     Ondo             Apartment      NaN       2.0            4.0   \n",
       "2   9261    Ekiti                   NaN      7.0       5.0            NaN   \n",
       "3   2224  Anambra       Detached duplex      5.0       2.0            4.0   \n",
       "4  10300     Kogi        Terrace duplex      NaN       5.0            6.0   \n",
       "\n",
       "         price  \n",
       "0  1149999.565  \n",
       "1  1672416.689  \n",
       "2  3364799.814  \n",
       "3  2410306.756  \n",
       "4  2600700.898  "
      ]
     },
     "execution_count": 7,
     "metadata": {},
     "output_type": "execute_result"
    }
   ],
   "source": [
    "train.head()"
   ]
  },
  {
   "cell_type": "code",
   "execution_count": 9,
   "id": "cd1c8eca",
   "metadata": {},
   "outputs": [
    {
     "data": {
      "text/html": [
       "<div>\n",
       "<style scoped>\n",
       "    .dataframe tbody tr th:only-of-type {\n",
       "        vertical-align: middle;\n",
       "    }\n",
       "\n",
       "    .dataframe tbody tr th {\n",
       "        vertical-align: top;\n",
       "    }\n",
       "\n",
       "    .dataframe thead th {\n",
       "        text-align: right;\n",
       "    }\n",
       "</style>\n",
       "<table border=\"1\" class=\"dataframe\">\n",
       "  <thead>\n",
       "    <tr style=\"text-align: right;\">\n",
       "      <th></th>\n",
       "      <th>loc</th>\n",
       "      <th>Latitude</th>\n",
       "      <th>Longitude</th>\n",
       "    </tr>\n",
       "  </thead>\n",
       "  <tbody>\n",
       "    <tr>\n",
       "      <th>0</th>\n",
       "      <td>Katsina</td>\n",
       "      <td>12.563083</td>\n",
       "      <td>7.620706</td>\n",
       "    </tr>\n",
       "    <tr>\n",
       "      <th>1</th>\n",
       "      <td>Ondo</td>\n",
       "      <td>7.020969</td>\n",
       "      <td>5.056748</td>\n",
       "    </tr>\n",
       "    <tr>\n",
       "      <th>2</th>\n",
       "      <td>Ekiti</td>\n",
       "      <td>7.736891</td>\n",
       "      <td>5.273833</td>\n",
       "    </tr>\n",
       "    <tr>\n",
       "      <th>3</th>\n",
       "      <td>Anambra</td>\n",
       "      <td>6.218314</td>\n",
       "      <td>6.953184</td>\n",
       "    </tr>\n",
       "    <tr>\n",
       "      <th>4</th>\n",
       "      <td>Kogi</td>\n",
       "      <td>7.794960</td>\n",
       "      <td>6.686867</td>\n",
       "    </tr>\n",
       "  </tbody>\n",
       "</table>\n",
       "</div>"
      ],
      "text/plain": [
       "       loc   Latitude  Longitude\n",
       "0  Katsina  12.563083   7.620706\n",
       "1     Ondo   7.020969   5.056748\n",
       "2    Ekiti   7.736891   5.273833\n",
       "3  Anambra   6.218314   6.953184\n",
       "4     Kogi   7.794960   6.686867"
      ]
     },
     "execution_count": 9,
     "metadata": {},
     "output_type": "execute_result"
    }
   ],
   "source": [
    "loc.head()"
   ]
  },
  {
   "cell_type": "code",
   "execution_count": 10,
   "id": "e7755412",
   "metadata": {},
   "outputs": [],
   "source": [
    "ntrain = train.shape[0]\n",
    "ntest = test.shape[0]\n",
    "df=pd.concat([train,test])"
   ]
  },
  {
   "cell_type": "code",
   "execution_count": 11,
   "id": "2bcc60d4",
   "metadata": {},
   "outputs": [],
   "source": [
    "# feature_generation(df)\n",
    "df  = pd.merge(df,loc,on  = \"loc\",how  = \"left\")"
   ]
  },
  {
   "cell_type": "code",
   "execution_count": 12,
   "id": "c681dfc9",
   "metadata": {},
   "outputs": [],
   "source": [
    "from sklearn.preprocessing import LabelEncoder"
   ]
  },
  {
   "cell_type": "code",
   "execution_count": 13,
   "id": "4d653736",
   "metadata": {},
   "outputs": [],
   "source": [
    "label = LabelEncoder()"
   ]
  },
  {
   "cell_type": "code",
   "execution_count": 14,
   "id": "d6e9f678",
   "metadata": {},
   "outputs": [
    {
     "data": {
      "text/html": [
       "<div>\n",
       "<style scoped>\n",
       "    .dataframe tbody tr th:only-of-type {\n",
       "        vertical-align: middle;\n",
       "    }\n",
       "\n",
       "    .dataframe tbody tr th {\n",
       "        vertical-align: top;\n",
       "    }\n",
       "\n",
       "    .dataframe thead th {\n",
       "        text-align: right;\n",
       "    }\n",
       "</style>\n",
       "<table border=\"1\" class=\"dataframe\">\n",
       "  <thead>\n",
       "    <tr style=\"text-align: right;\">\n",
       "      <th></th>\n",
       "      <th>ID</th>\n",
       "      <th>loc</th>\n",
       "      <th>title</th>\n",
       "      <th>bedroom</th>\n",
       "      <th>bathroom</th>\n",
       "      <th>parking_space</th>\n",
       "      <th>price</th>\n",
       "      <th>Latitude</th>\n",
       "      <th>Longitude</th>\n",
       "    </tr>\n",
       "  </thead>\n",
       "  <tbody>\n",
       "    <tr>\n",
       "      <th>0</th>\n",
       "      <td>3583</td>\n",
       "      <td>Katsina</td>\n",
       "      <td>Semi-detached duplex</td>\n",
       "      <td>2.0</td>\n",
       "      <td>2.0</td>\n",
       "      <td>1.0</td>\n",
       "      <td>1149999.565</td>\n",
       "      <td>12.563083</td>\n",
       "      <td>7.620706</td>\n",
       "    </tr>\n",
       "    <tr>\n",
       "      <th>1</th>\n",
       "      <td>2748</td>\n",
       "      <td>Ondo</td>\n",
       "      <td>Apartment</td>\n",
       "      <td>NaN</td>\n",
       "      <td>2.0</td>\n",
       "      <td>4.0</td>\n",
       "      <td>1672416.689</td>\n",
       "      <td>7.020969</td>\n",
       "      <td>5.056748</td>\n",
       "    </tr>\n",
       "    <tr>\n",
       "      <th>2</th>\n",
       "      <td>9261</td>\n",
       "      <td>Ekiti</td>\n",
       "      <td>NaN</td>\n",
       "      <td>7.0</td>\n",
       "      <td>5.0</td>\n",
       "      <td>NaN</td>\n",
       "      <td>3364799.814</td>\n",
       "      <td>7.736891</td>\n",
       "      <td>5.273833</td>\n",
       "    </tr>\n",
       "    <tr>\n",
       "      <th>3</th>\n",
       "      <td>2224</td>\n",
       "      <td>Anambra</td>\n",
       "      <td>Detached duplex</td>\n",
       "      <td>5.0</td>\n",
       "      <td>2.0</td>\n",
       "      <td>4.0</td>\n",
       "      <td>2410306.756</td>\n",
       "      <td>6.218314</td>\n",
       "      <td>6.953184</td>\n",
       "    </tr>\n",
       "    <tr>\n",
       "      <th>4</th>\n",
       "      <td>10300</td>\n",
       "      <td>Kogi</td>\n",
       "      <td>Terrace duplex</td>\n",
       "      <td>NaN</td>\n",
       "      <td>5.0</td>\n",
       "      <td>6.0</td>\n",
       "      <td>2600700.898</td>\n",
       "      <td>7.794960</td>\n",
       "      <td>6.686867</td>\n",
       "    </tr>\n",
       "  </tbody>\n",
       "</table>\n",
       "</div>"
      ],
      "text/plain": [
       "      ID      loc                 title  bedroom  bathroom  parking_space  \\\n",
       "0   3583  Katsina  Semi-detached duplex      2.0       2.0            1.0   \n",
       "1   2748     Ondo             Apartment      NaN       2.0            4.0   \n",
       "2   9261    Ekiti                   NaN      7.0       5.0            NaN   \n",
       "3   2224  Anambra       Detached duplex      5.0       2.0            4.0   \n",
       "4  10300     Kogi        Terrace duplex      NaN       5.0            6.0   \n",
       "\n",
       "         price   Latitude  Longitude  \n",
       "0  1149999.565  12.563083   7.620706  \n",
       "1  1672416.689   7.020969   5.056748  \n",
       "2  3364799.814   7.736891   5.273833  \n",
       "3  2410306.756   6.218314   6.953184  \n",
       "4  2600700.898   7.794960   6.686867  "
      ]
     },
     "execution_count": 14,
     "metadata": {},
     "output_type": "execute_result"
    }
   ],
   "source": [
    "df.head()"
   ]
  },
  {
   "cell_type": "code",
   "execution_count": 15,
   "id": "ea618d39",
   "metadata": {},
   "outputs": [
    {
     "data": {
      "text/plain": [
       "array([ 2., nan,  7.,  5.,  3.,  1.,  4.,  6.,  9.,  8.])"
      ]
     },
     "execution_count": 15,
     "metadata": {},
     "output_type": "execute_result"
    }
   ],
   "source": [
    "df.bedroom.unique()"
   ]
  },
  {
   "cell_type": "code",
   "execution_count": 776,
   "id": "4764ee2c",
   "metadata": {},
   "outputs": [],
   "source": [
    "# Calculate average bedroom per location\n",
    "bedroom  = df.groupby('title')['bedroom'].mean()"
   ]
  },
  {
   "cell_type": "code",
   "execution_count": 777,
   "id": "df0e2fe6",
   "metadata": {},
   "outputs": [],
   "source": [
    "df.parking_space  = df.parking_space.fillna(0)"
   ]
  },
  {
   "cell_type": "code",
   "execution_count": 779,
   "id": "b4401aa2",
   "metadata": {},
   "outputs": [],
   "source": [
    "df[\"num\"] = df['bedroom'] + df['bathroom'] +df.parking_space"
   ]
  },
  {
   "cell_type": "code",
   "execution_count": 783,
   "id": "12cbb779",
   "metadata": {},
   "outputs": [
    {
     "data": {
      "text/plain": [
       "Index(['Kebbi', 'Ebonyi', 'Sokoto', 'Zamfara', 'Abia', 'Borno', 'Jigawa',\n",
       "       'Yobe', 'Kogi', 'Bauchi', 'Kaduna', 'Taraba', 'Gombe', 'Niger', 'Kwara',\n",
       "       'Adamawa', 'Benue', 'Plateau', 'Katsina', 'Nasarawa', 'Imo', 'Kano',\n",
       "       'Ekiti', 'Osun', 'Enugu', 'Ondo', 'Oyo', 'Edo', 'Anambra',\n",
       "       'Cross River', 'Ogun', 'Delta', 'Akwa Ibom', 'Rivers', 'Bayelsa',\n",
       "       'Lagos'],\n",
       "      dtype='object', name='loc')"
      ]
     },
     "execution_count": 783,
     "metadata": {},
     "output_type": "execute_result"
    }
   ],
   "source": [
    "# df[df[\"loc\"] == 'Lagos']\n",
    "ordered_labels = df.groupby('loc').mean()[\"price\"].sort_values().index\n",
    "ordered_labels"
   ]
  },
  {
   "cell_type": "code",
   "execution_count": 784,
   "id": "ba927f8f",
   "metadata": {},
   "outputs": [
    {
     "data": {
      "text/plain": [
       "{'Kebbi': 0,\n",
       " 'Ebonyi': 1,\n",
       " 'Sokoto': 2,\n",
       " 'Zamfara': 3,\n",
       " 'Abia': 4,\n",
       " 'Borno': 5,\n",
       " 'Jigawa': 6,\n",
       " 'Yobe': 7,\n",
       " 'Kogi': 8,\n",
       " 'Bauchi': 9,\n",
       " 'Kaduna': 10,\n",
       " 'Taraba': 11,\n",
       " 'Gombe': 12,\n",
       " 'Niger': 13,\n",
       " 'Kwara': 14,\n",
       " 'Adamawa': 15,\n",
       " 'Benue': 16,\n",
       " 'Plateau': 17,\n",
       " 'Katsina': 18,\n",
       " 'Nasarawa': 19,\n",
       " 'Imo': 20,\n",
       " 'Kano': 21,\n",
       " 'Ekiti': 22,\n",
       " 'Osun': 23,\n",
       " 'Enugu': 24,\n",
       " 'Ondo': 25,\n",
       " 'Oyo': 26,\n",
       " 'Edo': 27,\n",
       " 'Anambra': 28,\n",
       " 'Cross River': 29,\n",
       " 'Ogun': 30,\n",
       " 'Delta': 31,\n",
       " 'Akwa Ibom': 32,\n",
       " 'Rivers': 33,\n",
       " 'Bayelsa': 34,\n",
       " 'Lagos': 35}"
      ]
     },
     "execution_count": 784,
     "metadata": {},
     "output_type": "execute_result"
    }
   ],
   "source": [
    "# next let's create a dictionary with the mappings of categories to numbers\n",
    "ordinal_mapping = {k: i for i, k in enumerate(ordered_labels, 0)}\n",
    "\n",
    "ordinal_mapping"
   ]
  },
  {
   "cell_type": "code",
   "execution_count": 785,
   "id": "c462081e",
   "metadata": {},
   "outputs": [],
   "source": [
    "df[\"Neighborhood\"] = df[\"loc\"].map(ordinal_mapping)"
   ]
  },
  {
   "cell_type": "code",
   "execution_count": 786,
   "id": "eed05516",
   "metadata": {},
   "outputs": [],
   "source": [
    "# df['bed_bath_comb'] = df['bedroom'] + df['bathroom']\n"
   ]
  },
  {
   "cell_type": "code",
   "execution_count": 787,
   "id": "006b74ef",
   "metadata": {},
   "outputs": [],
   "source": [
    "from geopy.distance import geodesic\n",
    "landmark_coords = (6.455057, 3.394179)  # Replace with landmark coordinates\n",
    "df['distance_to_landmark'] = df.apply(lambda x: \n",
    "                                      geodesic((x['Latitude'], x['Longitude']), \n",
    "                                               landmark_coords).km, axis=1)\n"
   ]
  },
  {
   "cell_type": "code",
   "execution_count": 789,
   "id": "d7826a10",
   "metadata": {},
   "outputs": [],
   "source": [
    "df[\"augment\"] = df[\"loc\"] + df[\"title\"]"
   ]
  },
  {
   "cell_type": "code",
   "execution_count": 790,
   "id": "11886e25",
   "metadata": {},
   "outputs": [],
   "source": [
    "# df[\"loc\"] = label.fit_transform(df['loc'])"
   ]
  },
  {
   "cell_type": "code",
   "execution_count": 791,
   "id": "007d9208",
   "metadata": {},
   "outputs": [],
   "source": [
    "# df[\"title\"] = label.fit_transform(df['title'])"
   ]
  },
  {
   "cell_type": "code",
   "execution_count": 792,
   "id": "4df3a88c",
   "metadata": {},
   "outputs": [],
   "source": [
    "df['loc']  = df['loc'].astype(str)\n",
    "df['title']  = df['title'].astype(str)\n",
    "df['augment']  = df['augment'].astype(str)"
   ]
  },
  {
   "cell_type": "code",
   "execution_count": 793,
   "id": "9bfe1cdb",
   "metadata": {},
   "outputs": [
    {
     "data": {
      "text/plain": [
       "Index(['ID', 'loc', 'title', 'bedroom', 'bathroom', 'parking_space', 'price',\n",
       "       'Latitude', 'Longitude', 'num', 'Neighborhood', 'distance_to_landmark',\n",
       "       'augment'],\n",
       "      dtype='object')"
      ]
     },
     "execution_count": 793,
     "metadata": {},
     "output_type": "execute_result"
    }
   ],
   "source": [
    "df.columns"
   ]
  },
  {
   "cell_type": "code",
   "execution_count": 794,
   "id": "638f1cc4",
   "metadata": {},
   "outputs": [],
   "source": [
    "\n",
    "categorical_features = ['loc',\"title\",\"augment\"]"
   ]
  },
  {
   "cell_type": "code",
   "execution_count": 798,
   "id": "792902de",
   "metadata": {},
   "outputs": [],
   "source": [
    "#Get the new dataset\n",
    "train = df[:ntrain]\n",
    "test = df[ntrain:]"
   ]
  },
  {
   "cell_type": "code",
   "execution_count": 799,
   "id": "5f4cb13d",
   "metadata": {},
   "outputs": [],
   "source": [
    "X = train.drop([\"ID\",\"price\"], axis = 1)\n",
    "y  = train[\"price\"]"
   ]
  },
  {
   "cell_type": "code",
   "execution_count": 800,
   "id": "cbae3806",
   "metadata": {},
   "outputs": [],
   "source": [
    "tes = test.drop([\"ID\",\"price\"],axis  = 1  )"
   ]
  },
  {
   "cell_type": "code",
   "execution_count": 801,
   "id": "1fb99245",
   "metadata": {},
   "outputs": [
    {
     "name": "stdout",
     "output_type": "stream",
     "text": [
      "0:\tlearn: 1030832.4976641\ttest: 1030588.2528362\ttest1: 1026089.7590556\tbest: 1026089.7590556 (0)\ttotal: 2.41ms\tremaining: 2.4s\n",
      "100:\tlearn: 543054.5799247\ttest: 535904.7604631\ttest1: 493876.3118274\tbest: 493876.3118274 (100)\ttotal: 152ms\tremaining: 1.36s\n",
      "200:\tlearn: 530944.8379508\ttest: 525585.3495917\ttest1: 485192.2277081\tbest: 485192.2277081 (200)\ttotal: 293ms\tremaining: 1.17s\n",
      "300:\tlearn: 524647.7081063\ttest: 520669.0008478\ttest1: 481182.0293311\tbest: 481182.0293311 (300)\ttotal: 427ms\tremaining: 992ms\n",
      "400:\tlearn: 519598.1078322\ttest: 516365.3055811\ttest1: 477896.8970963\tbest: 477817.5302060 (396)\ttotal: 563ms\tremaining: 840ms\n",
      "500:\tlearn: 514811.8933320\ttest: 512852.0539441\ttest1: 476433.3976369\tbest: 476361.6111055 (493)\ttotal: 689ms\tremaining: 686ms\n",
      "600:\tlearn: 511485.2919707\ttest: 510556.4796199\ttest1: 474834.3124404\tbest: 474574.7324079 (585)\ttotal: 821ms\tremaining: 545ms\n",
      "700:\tlearn: 508468.4481890\ttest: 508434.3713124\ttest1: 474129.8614657\tbest: 473732.7233976 (677)\ttotal: 949ms\tremaining: 405ms\n",
      "800:\tlearn: 505028.0776161\ttest: 506397.3371521\ttest1: 473059.4176705\tbest: 473052.4235795 (798)\ttotal: 1.1s\tremaining: 273ms\n",
      "900:\tlearn: 502386.4544940\ttest: 505149.2473182\ttest1: 472557.7028874\tbest: 472470.7052477 (895)\ttotal: 1.23s\tremaining: 135ms\n",
      "999:\tlearn: 499584.6098143\ttest: 503151.3168817\ttest1: 471920.5410520\tbest: 471725.1463271 (997)\ttotal: 1.37s\tremaining: 0us\n",
      "\n",
      "bestTest = 471725.1463\n",
      "bestIteration = 997\n",
      "\n",
      "Shrink model to first 998 iterations.\n",
      "err:  471725.15116424917\n",
      "0:\tlearn: 1029617.2379983\ttest: 1028986.3604621\ttest1: 1031555.8882305\tbest: 1031555.8882305 (0)\ttotal: 2.1ms\tremaining: 2.1s\n",
      "100:\tlearn: 524738.2621734\ttest: 517915.8543076\ttest1: 558704.6673359\tbest: 558704.6673359 (100)\ttotal: 137ms\tremaining: 1.21s\n",
      "200:\tlearn: 507117.9367781\ttest: 502027.9700714\ttest1: 556142.5790681\tbest: 555821.9935902 (187)\ttotal: 284ms\tremaining: 1.13s\n",
      "Stopped by overfitting detector  (100 iterations wait)\n",
      "\n",
      "bestTest = 555821.9936\n",
      "bestIteration = 187\n",
      "\n",
      "Shrink model to first 188 iterations.\n",
      "err:  555821.9901870259\n",
      "0:\tlearn: 1030600.1270327\ttest: 1030578.8842355\ttest1: 1022259.2189493\tbest: 1022259.2189493 (0)\ttotal: 2.15ms\tremaining: 2.14s\n",
      "100:\tlearn: 534803.6917092\ttest: 529118.1411854\ttest1: 516557.7166644\tbest: 516557.7166644 (100)\ttotal: 149ms\tremaining: 1.32s\n",
      "200:\tlearn: 520373.0967738\ttest: 517254.8451047\ttest1: 511014.5804407\tbest: 510957.6508306 (195)\ttotal: 280ms\tremaining: 1.11s\n",
      "300:\tlearn: 513198.3551250\ttest: 511875.8420803\ttest1: 508197.3533168\tbest: 507893.5159708 (280)\ttotal: 429ms\tremaining: 996ms\n",
      "400:\tlearn: 506720.7359780\ttest: 506674.2971251\ttest1: 506835.3688220\tbest: 506833.5717179 (399)\ttotal: 559ms\tremaining: 834ms\n",
      "500:\tlearn: 502432.1283858\ttest: 503614.9132384\ttest1: 507138.2785450\tbest: 506752.9210810 (403)\ttotal: 691ms\tremaining: 688ms\n",
      "Stopped by overfitting detector  (100 iterations wait)\n",
      "\n",
      "bestTest = 506752.9211\n",
      "bestIteration = 403\n",
      "\n",
      "Shrink model to first 404 iterations.\n",
      "err:  506752.9226896684\n",
      "0:\tlearn: 1034356.7994464\ttest: 1034244.0247689\ttest1: 1012205.9306286\tbest: 1012205.9306286 (0)\ttotal: 2.09ms\tremaining: 2.09s\n",
      "100:\tlearn: 527783.0529691\ttest: 522387.4039795\ttest1: 540657.8655987\tbest: 540657.8655987 (100)\ttotal: 141ms\tremaining: 1.26s\n",
      "200:\tlearn: 514203.5814361\ttest: 512002.0458104\ttest1: 539642.9554754\tbest: 539440.6108466 (154)\ttotal: 277ms\tremaining: 1.1s\n",
      "300:\tlearn: 507624.9599714\ttest: 507669.6788491\ttest1: 538169.7926424\tbest: 538163.3404218 (299)\ttotal: 408ms\tremaining: 949ms\n",
      "400:\tlearn: 501641.7865760\ttest: 503006.9387878\ttest1: 536139.9283122\tbest: 536139.9283122 (400)\ttotal: 542ms\tremaining: 809ms\n",
      "500:\tlearn: 496609.4518646\ttest: 499717.3964498\ttest1: 534816.4749682\tbest: 534804.2535089 (499)\ttotal: 674ms\tremaining: 672ms\n",
      "600:\tlearn: 492438.2574558\ttest: 496966.4447716\ttest1: 533355.4111190\tbest: 533355.4111190 (600)\ttotal: 813ms\tremaining: 540ms\n",
      "700:\tlearn: 489181.2245198\ttest: 495065.6492015\ttest1: 533085.8261387\tbest: 533071.0375042 (699)\ttotal: 938ms\tremaining: 400ms\n",
      "800:\tlearn: 486384.5090233\ttest: 493565.3572580\ttest1: 532651.0167294\tbest: 532649.4210500 (782)\ttotal: 1.07s\tremaining: 266ms\n",
      "900:\tlearn: 483761.2251119\ttest: 491830.0451074\ttest1: 531976.3420960\tbest: 531976.3420960 (900)\ttotal: 1.2s\tremaining: 132ms\n",
      "999:\tlearn: 480392.8748893\ttest: 490031.8136336\ttest1: 531821.7047790\tbest: 531632.1770175 (931)\ttotal: 1.34s\tremaining: 0us\n",
      "\n",
      "bestTest = 531632.177\n",
      "bestIteration = 931\n",
      "\n",
      "Shrink model to first 932 iterations.\n",
      "err:  531632.1765738346\n",
      "0:\tlearn: 1023540.5328463\ttest: 1023500.2256690\ttest1: 1055931.0280543\tbest: 1055931.0280543 (0)\ttotal: 2.16ms\tremaining: 2.16s\n",
      "100:\tlearn: 524808.8931473\ttest: 521265.2001973\ttest1: 561587.6490622\tbest: 561587.6490622 (100)\ttotal: 137ms\tremaining: 1.22s\n",
      "200:\tlearn: 512309.1581492\ttest: 510928.2768851\ttest1: 547982.5502433\tbest: 547982.5502433 (200)\ttotal: 284ms\tremaining: 1.13s\n",
      "300:\tlearn: 506244.0560377\ttest: 506628.8262460\ttest1: 544795.3913159\tbest: 544534.4327899 (286)\ttotal: 424ms\tremaining: 985ms\n",
      "400:\tlearn: 501391.5970828\ttest: 503384.9613558\ttest1: 542024.2099269\tbest: 541939.6403437 (397)\ttotal: 567ms\tremaining: 847ms\n",
      "500:\tlearn: 496943.4295295\ttest: 500360.1765637\ttest1: 540321.4973045\tbest: 540181.0099510 (497)\ttotal: 700ms\tremaining: 697ms\n",
      "600:\tlearn: 492722.5344470\ttest: 497361.3306343\ttest1: 539269.6897204\tbest: 539269.6897204 (600)\ttotal: 840ms\tremaining: 558ms\n",
      "700:\tlearn: 489581.6978970\ttest: 495130.1339186\ttest1: 537184.6192467\tbest: 537136.9894638 (695)\ttotal: 970ms\tremaining: 414ms\n",
      "800:\tlearn: 487045.0435482\ttest: 493350.5177634\ttest1: 536603.0509279\tbest: 536352.1958159 (758)\ttotal: 1.11s\tremaining: 275ms\n",
      "900:\tlearn: 484503.2103292\ttest: 491633.0267675\ttest1: 536813.8129719\tbest: 536102.5610696 (829)\ttotal: 1.24s\tremaining: 136ms\n",
      "Stopped by overfitting detector  (100 iterations wait)\n",
      "\n",
      "bestTest = 536102.5611\n",
      "bestIteration = 829\n",
      "\n",
      "Shrink model to first 830 iterations.\n",
      "err:  536102.5621317056\n"
     ]
    }
   ],
   "source": [
    "from catboost import CatBoostRegressor\n",
    "from sklearn.metrics import mean_squared_error\n",
    "from math import sqrt\n",
    "from sklearn.metrics import accuracy_score,confusion_matrix,roc_auc_score\n",
    "errcb1=[]\n",
    "y_pred_totcb1=[]\n",
    "from sklearn.model_selection import KFold,StratifiedKFold, TimeSeriesSplit\n",
    "fold=KFold(n_splits=5)\n",
    "i=1\n",
    "for train_index, test_index in fold.split(X,y):\n",
    "    X_train, X_test = X.iloc[train_index], X.iloc[test_index]\n",
    "    y_train, y_test = y[train_index], y[test_index]\n",
    "    # m1=CatBoostRegressor(n_estimators=1000,eval_metric='RMSE',max_depth=4,learning_rate=0.1,od_wait=50, reg_lambda=3,\n",
    "    #                           bootstrap_type='Bayesian',\n",
    "    #                  use_best_model=True)\n",
    "    m1=CatBoostRegressor(cat_features= categorical_features,n_estimators=1000,eval_metric='RMSE',max_depth=3,\n",
    "                         learning_rate=0.1,od_wait=50, reg_lambda=3,\n",
    "                              bootstrap_type='Bayesian',\n",
    "                     use_best_model=True)\n",
    "    m1.fit(X_train,y_train,eval_set=[(X_train,y_train),(X_test, y_test)], early_stopping_rounds=100,verbose=100)\n",
    "    preds=m1.predict(X_test)\n",
    "    print(\"err: \",sqrt(mean_squared_error(y_test,preds)))\n",
    "    errcb1.append(sqrt(mean_squared_error(y_test,preds)))\n",
    "    p1 = m1.predict(tes)\n",
    "    y_pred_totcb1.append(p1)"
   ]
  },
  {
   "cell_type": "code",
   "execution_count": 802,
   "id": "f16b71e0",
   "metadata": {},
   "outputs": [
    {
     "data": {
      "text/plain": [
       "520406.9605492967"
      ]
     },
     "execution_count": 802,
     "metadata": {},
     "output_type": "execute_result"
    }
   ],
   "source": [
    "import numpy as np\n",
    "np.mean(errcb1)\n",
    "# 543489.12700434\n",
    "# 530378.7655414446\n",
    "# 524530.9891428751\n",
    "# 521081.18486009946\n",
    "# 522915.3224709265"
   ]
  },
  {
   "cell_type": "code",
   "execution_count": 804,
   "id": "32c2216c",
   "metadata": {},
   "outputs": [],
   "source": [
    "d = {\"ID\": test.ID, 'price': np.mean(y_pred_totcb1, 0)}\n",
    "pred = pd.DataFrame(data=d)"
   ]
  },
  {
   "cell_type": "code",
   "execution_count": 805,
   "id": "45799123",
   "metadata": {},
   "outputs": [],
   "source": [
    "pred.to_csv(\"doings_resume2_ne.csv\",index  = False)"
   ]
  },
  {
   "cell_type": "code",
   "execution_count": 806,
   "id": "689df778",
   "metadata": {},
   "outputs": [
    {
     "data": {
      "image/png": "[encoded data removed]",
      "text/plain": [
       "<Figure size 720x432 with 1 Axes>"
      ]
     },
     "metadata": {
      "needs_background": "light"
     },
     "output_type": "display_data"
    }
   ],
   "source": [
    "# Feature importance plot\n",
    "import matplotlib.pyplot as plt\n",
    "feature_importance = m1.get_feature_importance()\n",
    "feature_names = X.columns\n",
    "\n",
    "# Create a DataFrame to store feature importance results\n",
    "importance_df = pd.DataFrame({'feature': feature_names, 'importance': feature_importance})\n",
    "\n",
    "# Sort the DataFrame by feature importance values\n",
    "importance_df = importance_df.sort_values(by='importance', ascending=False)\n",
    "\n",
    "# Plot the feature importance\n",
    "plt.figure(figsize=(10, 6))\n",
    "plt.bar(importance_df['feature'], importance_df['importance'])\n",
    "plt.xticks(rotation=90)\n",
    "plt.xlabel('Features')\n",
    "plt.ylabel('Importance')\n",
    "plt.title('Feature Importance in CatBoost Model')\n",
    "plt.show()"
   ]
  },
  {
   "cell_type": "code",
   "execution_count": 807,
   "id": "39035227",
   "metadata": {},
   "outputs": [
    {
     "data": {
      "text/html": [
       "<div>\n",
       "<style scoped>\n",
       "    .dataframe tbody tr th:only-of-type {\n",
       "        vertical-align: middle;\n",
       "    }\n",
       "\n",
       "    .dataframe tbody tr th {\n",
       "        vertical-align: top;\n",
       "    }\n",
       "\n",
       "    .dataframe thead th {\n",
       "        text-align: right;\n",
       "    }\n",
       "</style>\n",
       "<table border=\"1\" class=\"dataframe\">\n",
       "  <thead>\n",
       "    <tr style=\"text-align: right;\">\n",
       "      <th></th>\n",
       "      <th>feature</th>\n",
       "      <th>importance</th>\n",
       "    </tr>\n",
       "  </thead>\n",
       "  <tbody>\n",
       "    <tr>\n",
       "      <th>1</th>\n",
       "      <td>title</td>\n",
       "      <td>37.308306</td>\n",
       "    </tr>\n",
       "    <tr>\n",
       "      <th>2</th>\n",
       "      <td>bedroom</td>\n",
       "      <td>30.522808</td>\n",
       "    </tr>\n",
       "    <tr>\n",
       "      <th>8</th>\n",
       "      <td>Neighborhood</td>\n",
       "      <td>11.688783</td>\n",
       "    </tr>\n",
       "    <tr>\n",
       "      <th>0</th>\n",
       "      <td>loc</td>\n",
       "      <td>8.197827</td>\n",
       "    </tr>\n",
       "    <tr>\n",
       "      <th>9</th>\n",
       "      <td>distance_to_landmark</td>\n",
       "      <td>3.246537</td>\n",
       "    </tr>\n",
       "    <tr>\n",
       "      <th>7</th>\n",
       "      <td>num</td>\n",
       "      <td>3.144468</td>\n",
       "    </tr>\n",
       "    <tr>\n",
       "      <th>3</th>\n",
       "      <td>bathroom</td>\n",
       "      <td>2.275879</td>\n",
       "    </tr>\n",
       "    <tr>\n",
       "      <th>6</th>\n",
       "      <td>Longitude</td>\n",
       "      <td>2.007286</td>\n",
       "    </tr>\n",
       "    <tr>\n",
       "      <th>4</th>\n",
       "      <td>parking_space</td>\n",
       "      <td>0.596224</td>\n",
       "    </tr>\n",
       "    <tr>\n",
       "      <th>10</th>\n",
       "      <td>augment</td>\n",
       "      <td>0.553881</td>\n",
       "    </tr>\n",
       "    <tr>\n",
       "      <th>5</th>\n",
       "      <td>Latitude</td>\n",
       "      <td>0.458001</td>\n",
       "    </tr>\n",
       "  </tbody>\n",
       "</table>\n",
       "</div>"
      ],
      "text/plain": [
       "                 feature  importance\n",
       "1                  title   37.308306\n",
       "2                bedroom   30.522808\n",
       "8           Neighborhood   11.688783\n",
       "0                    loc    8.197827\n",
       "9   distance_to_landmark    3.246537\n",
       "7                    num    3.144468\n",
       "3               bathroom    2.275879\n",
       "6              Longitude    2.007286\n",
       "4          parking_space    0.596224\n",
       "10               augment    0.553881\n",
       "5               Latitude    0.458001"
      ]
     },
     "execution_count": 807,
     "metadata": {},
     "output_type": "execute_result"
    }
   ],
   "source": [
    "importance_df"
   ]
  },
  {
   "cell_type": "code",
   "execution_count": 808,
   "id": "c2798ee2",
   "metadata": {},
   "outputs": [
    {
     "data": {
      "text/html": [
       "<div>\n",
       "<style scoped>\n",
       "    .dataframe tbody tr th:only-of-type {\n",
       "        vertical-align: middle;\n",
       "    }\n",
       "\n",
       "    .dataframe tbody tr th {\n",
       "        vertical-align: top;\n",
       "    }\n",
       "\n",
       "    .dataframe thead th {\n",
       "        text-align: right;\n",
       "    }\n",
       "</style>\n",
       "<table border=\"1\" class=\"dataframe\">\n",
       "  <thead>\n",
       "    <tr style=\"text-align: right;\">\n",
       "      <th></th>\n",
       "      <th>ID</th>\n",
       "      <th>bedroom</th>\n",
       "      <th>bathroom</th>\n",
       "      <th>parking_space</th>\n",
       "      <th>price</th>\n",
       "      <th>Latitude</th>\n",
       "      <th>Longitude</th>\n",
       "      <th>num</th>\n",
       "      <th>Neighborhood</th>\n",
       "      <th>distance_to_landmark</th>\n",
       "    </tr>\n",
       "  </thead>\n",
       "  <tbody>\n",
       "    <tr>\n",
       "      <th>ID</th>\n",
       "      <td>1.000000</td>\n",
       "      <td>0.226893</td>\n",
       "      <td>0.339646</td>\n",
       "      <td>0.135973</td>\n",
       "      <td>0.167093</td>\n",
       "      <td>-0.002820</td>\n",
       "      <td>-0.011406</td>\n",
       "      <td>0.353763</td>\n",
       "      <td>0.005854</td>\n",
       "      <td>-0.004851</td>\n",
       "    </tr>\n",
       "    <tr>\n",
       "      <th>bedroom</th>\n",
       "      <td>0.226893</td>\n",
       "      <td>1.000000</td>\n",
       "      <td>0.234478</td>\n",
       "      <td>0.092787</td>\n",
       "      <td>0.529145</td>\n",
       "      <td>0.001396</td>\n",
       "      <td>-0.004843</td>\n",
       "      <td>0.737338</td>\n",
       "      <td>0.009581</td>\n",
       "      <td>-0.000065</td>\n",
       "    </tr>\n",
       "    <tr>\n",
       "      <th>bathroom</th>\n",
       "      <td>0.339646</td>\n",
       "      <td>0.234478</td>\n",
       "      <td>1.000000</td>\n",
       "      <td>0.140224</td>\n",
       "      <td>0.221544</td>\n",
       "      <td>0.003460</td>\n",
       "      <td>0.002846</td>\n",
       "      <td>0.683787</td>\n",
       "      <td>0.002247</td>\n",
       "      <td>0.003724</td>\n",
       "    </tr>\n",
       "    <tr>\n",
       "      <th>parking_space</th>\n",
       "      <td>0.135973</td>\n",
       "      <td>0.092787</td>\n",
       "      <td>0.140224</td>\n",
       "      <td>1.000000</td>\n",
       "      <td>0.087125</td>\n",
       "      <td>0.036374</td>\n",
       "      <td>0.012537</td>\n",
       "      <td>0.550319</td>\n",
       "      <td>-0.002015</td>\n",
       "      <td>0.036267</td>\n",
       "    </tr>\n",
       "    <tr>\n",
       "      <th>price</th>\n",
       "      <td>0.167093</td>\n",
       "      <td>0.529145</td>\n",
       "      <td>0.221544</td>\n",
       "      <td>0.087125</td>\n",
       "      <td>1.000000</td>\n",
       "      <td>-0.039443</td>\n",
       "      <td>-0.163702</td>\n",
       "      <td>0.453771</td>\n",
       "      <td>0.402965</td>\n",
       "      <td>-0.045306</td>\n",
       "    </tr>\n",
       "    <tr>\n",
       "      <th>Latitude</th>\n",
       "      <td>-0.002820</td>\n",
       "      <td>0.001396</td>\n",
       "      <td>0.003460</td>\n",
       "      <td>0.036374</td>\n",
       "      <td>-0.039443</td>\n",
       "      <td>1.000000</td>\n",
       "      <td>0.461442</td>\n",
       "      <td>0.026814</td>\n",
       "      <td>-0.605115</td>\n",
       "      <td>0.983224</td>\n",
       "    </tr>\n",
       "    <tr>\n",
       "      <th>Longitude</th>\n",
       "      <td>-0.011406</td>\n",
       "      <td>-0.004843</td>\n",
       "      <td>0.002846</td>\n",
       "      <td>0.012537</td>\n",
       "      <td>-0.163702</td>\n",
       "      <td>0.461442</td>\n",
       "      <td>1.000000</td>\n",
       "      <td>0.006558</td>\n",
       "      <td>-0.394754</td>\n",
       "      <td>0.588781</td>\n",
       "    </tr>\n",
       "    <tr>\n",
       "      <th>num</th>\n",
       "      <td>0.353763</td>\n",
       "      <td>0.737338</td>\n",
       "      <td>0.683787</td>\n",
       "      <td>0.550319</td>\n",
       "      <td>0.453771</td>\n",
       "      <td>0.026814</td>\n",
       "      <td>0.006558</td>\n",
       "      <td>1.000000</td>\n",
       "      <td>0.004110</td>\n",
       "      <td>0.025715</td>\n",
       "    </tr>\n",
       "    <tr>\n",
       "      <th>Neighborhood</th>\n",
       "      <td>0.005854</td>\n",
       "      <td>0.009581</td>\n",
       "      <td>0.002247</td>\n",
       "      <td>-0.002015</td>\n",
       "      <td>0.402965</td>\n",
       "      <td>-0.605115</td>\n",
       "      <td>-0.394754</td>\n",
       "      <td>0.004110</td>\n",
       "      <td>1.000000</td>\n",
       "      <td>-0.581911</td>\n",
       "    </tr>\n",
       "    <tr>\n",
       "      <th>distance_to_landmark</th>\n",
       "      <td>-0.004851</td>\n",
       "      <td>-0.000065</td>\n",
       "      <td>0.003724</td>\n",
       "      <td>0.036267</td>\n",
       "      <td>-0.045306</td>\n",
       "      <td>0.983224</td>\n",
       "      <td>0.588781</td>\n",
       "      <td>0.025715</td>\n",
       "      <td>-0.581911</td>\n",
       "      <td>1.000000</td>\n",
       "    </tr>\n",
       "  </tbody>\n",
       "</table>\n",
       "</div>"
      ],
      "text/plain": [
       "                            ID   bedroom  bathroom  parking_space     price  \\\n",
       "ID                    1.000000  0.226893  0.339646       0.135973  0.167093   \n",
       "bedroom               0.226893  1.000000  0.234478       0.092787  0.529145   \n",
       "bathroom              0.339646  0.234478  1.000000       0.140224  0.221544   \n",
       "parking_space         0.135973  0.092787  0.140224       1.000000  0.087125   \n",
       "price                 0.167093  0.529145  0.221544       0.087125  1.000000   \n",
       "Latitude             -0.002820  0.001396  0.003460       0.036374 -0.039443   \n",
       "Longitude            -0.011406 -0.004843  0.002846       0.012537 -0.163702   \n",
       "num                   0.353763  0.737338  0.683787       0.550319  0.453771   \n",
       "Neighborhood          0.005854  0.009581  0.002247      -0.002015  0.402965   \n",
       "distance_to_landmark -0.004851 -0.000065  0.003724       0.036267 -0.045306   \n",
       "\n",
       "                      Latitude  Longitude       num  Neighborhood  \\\n",
       "ID                   -0.002820  -0.011406  0.353763      0.005854   \n",
       "bedroom               0.001396  -0.004843  0.737338      0.009581   \n",
       "bathroom              0.003460   0.002846  0.683787      0.002247   \n",
       "parking_space         0.036374   0.012537  0.550319     -0.002015   \n",
       "price                -0.039443  -0.163702  0.453771      0.402965   \n",
       "Latitude              1.000000   0.461442  0.026814     -0.605115   \n",
       "Longitude             0.461442   1.000000  0.006558     -0.394754   \n",
       "num                   0.026814   0.006558  1.000000      0.004110   \n",
       "Neighborhood         -0.605115  -0.394754  0.004110      1.000000   \n",
       "distance_to_landmark  0.983224   0.588781  0.025715     -0.581911   \n",
       "\n",
       "                      distance_to_landmark  \n",
       "ID                               -0.004851  \n",
       "bedroom                          -0.000065  \n",
       "bathroom                          0.003724  \n",
       "parking_space                     0.036267  \n",
       "price                            -0.045306  \n",
       "Latitude                          0.983224  \n",
       "Longitude                         0.588781  \n",
       "num                               0.025715  \n",
       "Neighborhood                     -0.581911  \n",
       "distance_to_landmark              1.000000  "
      ]
     },
     "execution_count": 808,
     "metadata": {},
     "output_type": "execute_result"
    }
   ],
   "source": [
    "df.corr()"
   ]
  },
  {
   "cell_type": "code",
   "execution_count": null,
   "id": "8f2869f1",
   "metadata": {},
   "outputs": [],
   "source": []
  }
 ],
 "metadata": {
  "kernelspec": {
   "display_name": "Python 3 (ipykernel)",
   "language": "python",
   "name": "python3"
  },
  "language_info": {
   "codemirror_mode": {
    "name": "ipython",
    "version": 3
   },
   "file_extension": ".py",
   "mimetype": "text/x-python",
   "name": "python",
   "nbconvert_exporter": "python",
   "pygments_lexer": "ipython3",
   "version": "3.8.10"
  }
 },
 "nbformat": 4,
 "nbformat_minor": 5
}
